{
 "cells": [
  {
   "cell_type": "code",
   "execution_count": 5,
   "id": "c24e6509-8c06-469f-aa42-99dfe4ca67b2",
   "metadata": {},
   "outputs": [],
   "source": [
    "import pandas as pd\n",
    "import numpy as np\n",
    "\n",
    "# Caminho do arquivo\n",
    "file_path = \"H:/Meu Drive/Kidy/PREDITIVADADOS/DADOS_PREDITIVA.xlsx\"\n",
    "\n",
    "# Carregar somente as colunas necessárias para o cálculo do RFV\n",
    "colunas_rfv = [\"Codigo Cliente\", \"Data Ultima Compra\", \"Numero Pedido\", \"Vlr Venda\"]\n",
    "df = pd.read_excel(file_path, sheet_name=\"DADOS_PREDITIVA\", usecols=colunas_rfv, parse_dates=[\"Data Ultima Compra\"])\n",
    "\n",
    "# Garantir que o código do cliente seja string\n",
    "df[\"Codigo Cliente\"] = df[\"Codigo Cliente\"].astype(str)\n",
    "\n",
    "# Agrupar os dados para RFV\n",
    "rfv = df.groupby(\"Codigo Cliente\").agg({\n",
    "    \"Data Ultima Compra\": lambda x: (pd.Timestamp.today() - x.max()).days,\n",
    "    \"Numero Pedido\": \"count\",\n",
    "    \"Vlr Venda\": \"sum\"\n",
    "}).rename(columns={\n",
    "    \"Data Ultima Compra\": \"Recencia\",\n",
    "    \"Numero Pedido\": \"Frequencia\",\n",
    "    \"Vlr Venda\": \"Valor\"\n",
    "})\n",
    "\n",
    "# Quantis para RFV\n",
    "rfv[\"R_quantil\"] = pd.qcut(rfv[\"Recencia\"], 5, labels=[5, 4, 3, 2, 1]).astype(int)\n",
    "rfv[\"F_quantil\"] = pd.qcut(rfv[\"Frequencia\"].rank(method=\"first\"), 5, labels=[1, 2, 3, 4, 5]).astype(int)\n",
    "rfv[\"V_quantil\"] = pd.qcut(rfv[\"Valor\"].rank(method=\"first\"), 5, labels=[1, 2, 3, 4, 5]).astype(int)\n",
    "\n",
    "# RFV Score\n",
    "rfv[\"RFV_Score\"] = rfv[\"R_quantil\"].astype(str) + rfv[\"F_quantil\"].astype(str) + rfv[\"V_quantil\"].astype(str)\n",
    "\n",
    "# Classificação de Segmento\n",
    "def classificar(score):\n",
    "    total = sum(int(d) for d in score)\n",
    "    if total >= 13:\n",
    "        return \"Cliente Premium\"\n",
    "    elif total >= 10:\n",
    "        return \"Cliente Valioso\"\n",
    "    elif total >= 7:\n",
    "        return \"Cliente Médio\"\n",
    "    else:\n",
    "        return \"Cliente em Risco\"\n",
    "\n",
    "rfv[\"Segmento\"] = rfv[\"RFV_Score\"].apply(classificar)\n",
    "\n",
    "# Exportar para Excel\n",
    "rfv.reset_index().to_excel(\"RFV_CLIENTES.xlsx\", index=False)\n"
   ]
  },
  {
   "cell_type": "code",
   "execution_count": null,
   "id": "70f99a95-a676-4664-905e-dd2a6cb4275e",
   "metadata": {},
   "outputs": [],
   "source": []
  }
 ],
 "metadata": {
  "kernelspec": {
   "display_name": "Python 3 (ipykernel)",
   "language": "python",
   "name": "python3"
  },
  "language_info": {
   "codemirror_mode": {
    "name": "ipython",
    "version": 3
   },
   "file_extension": ".py",
   "mimetype": "text/x-python",
   "name": "python",
   "nbconvert_exporter": "python",
   "pygments_lexer": "ipython3",
   "version": "3.13.2"
  }
 },
 "nbformat": 4,
 "nbformat_minor": 5
}

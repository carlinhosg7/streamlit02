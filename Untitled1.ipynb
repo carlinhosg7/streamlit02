{
 "cells": [
  {
   "cell_type": "code",
   "execution_count": null,
   "id": "e2110f29",
   "metadata": {},
   "outputs": [],
   "source": [
    "import plotly.express as px\n",
    "import os\n",
    "import tempfile\n",
    "import plotly.io as pio\n",
    "\n",
    "pio.kaleido.scope.default_format = \"png\"\n",
    "\n",
    "fig = px.bar(x=[\"Jan\", \"Fev\", \"Mar\"], y=[100, 200, 150], title=\"Teste Gráfico\")\n",
    "fig.show()\n",
    "\n",
    "caminho = os.path.join(tempfile.gettempdir(), \"grafico_teste.png\")\n",
    "fig.write_image(caminho, format=\"png\", engine=\"kaleido\", scale=2)\n",
    "\n",
    "print(\"✅ Gráfico salvo em:\", c:/kidy)\n"
   ]
  },
  {
   "cell_type": "code",
   "execution_count": null,
   "id": "9229492f",
   "metadata": {},
   "outputs": [],
   "source": []
  },
  {
   "cell_type": "code",
   "execution_count": null,
   "id": "edf7df1a",
   "metadata": {},
   "outputs": [],
   "source": []
  },
  {
   "cell_type": "code",
   "execution_count": null,
   "id": "d01fb0ba",
   "metadata": {},
   "outputs": [],
   "source": []
  }
 ],
 "metadata": {
  "kernelspec": {
   "display_name": "Python 3 (ipykernel)",
   "language": "python",
   "name": "python3"
  },
  "language_info": {
   "codemirror_mode": {
    "name": "ipython",
    "version": 3
   },
   "file_extension": ".py",
   "mimetype": "text/x-python",
   "name": "python",
   "nbconvert_exporter": "python",
   "pygments_lexer": "ipython3",
   "version": "3.9.13"
  }
 },
 "nbformat": 4,
 "nbformat_minor": 5
}
